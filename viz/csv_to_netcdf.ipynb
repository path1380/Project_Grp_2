{
 "cells": [
  {
   "cell_type": "code",
   "execution_count": 1,
   "metadata": {},
   "outputs": [],
   "source": [
    "from netCDF4 import Dataset\n",
    "import pandas as pd\n",
    "import numpy as np\n",
    "import os"
   ]
  },
  {
   "cell_type": "code",
   "execution_count": 2,
   "metadata": {},
   "outputs": [],
   "source": [
    "## Create netCDF dataset\n",
    "dataset = Dataset('all_nc.nc', 'w', format='NETCDF4_CLASSIC')"
   ]
  },
  {
   "cell_type": "code",
   "execution_count": 3,
   "metadata": {},
   "outputs": [],
   "source": [
    "## Dataset parameters\n",
    "# Misc simulation parameters\n",
    "nx = 41\n",
    "ny = 41\n",
    "\n",
    "# Coordinates\n",
    "x = dataset.createDimension('x', nx)\n",
    "y = dataset.createDimension('y', ny)\n",
    "Time = dataset.createDimension('Time', None)\n",
    "\n",
    "# Coordinate variables\n",
    "x_var = dataset.createVariable('x', np.float64, ('x',))\n",
    "y_var = dataset.createVariable('y', np.float64, ('y',))\n",
    "Time_var = dataset.createVariable('Time', np.float64, ('Time',))\n",
    "\n",
    "# Non-coordinate variable\n",
    "C = dataset.createVariable('C', np.float64, ('Time', 'x', 'y'))\n",
    "\n",
    "# Variable attributes\n",
    "x_var.units = 'm'\n",
    "y_var.units = 'm'\n",
    "Time_var.units = 's'\n",
    "C.units = 'kg/m3'"
   ]
  },
  {
   "cell_type": "code",
   "execution_count": 4,
   "metadata": {},
   "outputs": [
    {
     "name": "stdout",
     "output_type": "stream",
     "text": [
      "(0, 41, 41)\n",
      "(39, 41, 41)\n"
     ]
    }
   ],
   "source": [
    "## Fill dataset\n",
    "# Get number of timesteps\n",
    "cwd = os.getcwd()\n",
    "DIR = os.path.join(cwd, 'data', 'csv')\n",
    "n_files = len([name for name in os.listdir(DIR) \n",
    "               if os.path.isfile(os.path.join(DIR, name))])\n",
    "\n",
    "# Fill limited coordinates\n",
    "x_var[:] = np.linspace(-1,1,nx)  # Witch magic. You don't overwrite the variable.\n",
    "y_var[:] = np.linspace(-1,1,ny)\n",
    "\n",
    "print(C.shape)\n",
    "\n",
    "# Load csv's\n",
    "for i in range(n_files):\n",
    "    fnumber = str(i).zfill(4)    # Zero pad the integer\n",
    "    fname = 'csv_' + fnumber + '.csv'\n",
    "    fname = os.path.join('data', 'csv', fname)\n",
    "    data = np.loadtxt(fname, delimiter=',')\n",
    "\n",
    "    # Reshape the concentration data\n",
    "    C_np = np.reshape(data[:,2], (nx,ny))\n",
    "    \n",
    "    # Fill netCDF\n",
    "    C[i,:,:] = C_np\n",
    "    \n",
    "Time_var[:] = np.arange(0,n_files,1)\n",
    "print(C.shape)"
   ]
  },
  {
   "cell_type": "code",
   "execution_count": 5,
   "metadata": {},
   "outputs": [],
   "source": [
    "## Save dataset\n",
    "dataset.close()"
   ]
  },
  {
   "cell_type": "code",
   "execution_count": null,
   "metadata": {},
   "outputs": [],
   "source": []
  }
 ],
 "metadata": {
  "kernelspec": {
   "display_name": "Python 3",
   "language": "python",
   "name": "python3"
  },
  "language_info": {
   "codemirror_mode": {
    "name": "ipython",
    "version": 3
   },
   "file_extension": ".py",
   "mimetype": "text/x-python",
   "name": "python",
   "nbconvert_exporter": "python",
   "pygments_lexer": "ipython3",
   "version": "3.6.3"
  }
 },
 "nbformat": 4,
 "nbformat_minor": 2
}
